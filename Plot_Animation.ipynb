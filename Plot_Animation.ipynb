{
 "cells": [
  {
   "cell_type": "markdown",
   "metadata": {},
   "source": [
    "# Animated Plots"
   ]
  },
  {
   "cell_type": "code",
   "execution_count": 3,
   "metadata": {},
   "outputs": [
    {
     "data": {
      "text/html": [
       "<video src=\"sin_travel.mp4\" controls  >\n",
       "      Your browser does not support the <code>video</code> element.\n",
       "    </video>"
      ],
      "text/plain": [
       "<IPython.core.display.Video object>"
      ]
     },
     "execution_count": 3,
     "metadata": {},
     "output_type": "execute_result"
    }
   ],
   "source": [
    "#=============================\n",
    "# plot a travelling sine wave\n",
    "#=============================\n",
    "\n",
    "%matplotlib inline\n",
    "import numpy as np\n",
    "from matplotlib import pyplot as plt\n",
    "from matplotlib import animation\n",
    "from IPython.display import Video\n",
    "\n",
    "x_start = 0\n",
    "x_end   = 10 * np.pi\n",
    "\n",
    "steps_t = 201 # number of time steps\n",
    "dt = 0.1      # length of time step\n",
    "\n",
    "x  = np.linspace(x_start, x_end, 201)\n",
    "\n",
    "# create a figure and grab fig, ax objects\n",
    "fig, ax = plt.subplots(figsize=[7,7])\n",
    "fig.suptitle(\"y = sin(x - t)\", fontsize=23)\n",
    "ax.set_xlabel(\"x\", fontsize=18)\n",
    "ax.set_ylabel(\"y\", fontsize=18)\n",
    "\n",
    "\n",
    "# plot a line and grab the object\n",
    "# note how the ax.plot method returns a list of one element\n",
    "# so the list has to be unpacked to get the line object\n",
    "line,   = ax.plot(x, np.sin(x))\n",
    "\n",
    "# create text to display time, grab text object\n",
    "t_text = ax.text(1,1,\"time = \")\n",
    "\n",
    "# function should return plot objects that\n",
    "#   need to be updated at each time step\n",
    "def animate(n):\n",
    "    line.set_ydata(np.sin(x - n*dt))\n",
    "    t_text.set_text(\"t = {}\".format(n*dt))\n",
    "    return line, t_text\n",
    "\n",
    "# create animation object by running the function 'animate'\n",
    "# updates fig with plot objects returned by 'animate' function\n",
    "# interval: delay between frames in ms\n",
    "# save_count: number of times animate is called\n",
    "ani = animation.FuncAnimation(fig, animate, interval=50, save_count=steps_t)\n",
    "\n",
    "# supress static figure from being plotted\n",
    "plt.close()\n",
    "\n",
    "ani.save(\"sin_travel.mp4\") # save as mp4\n",
    "Video(\"sin_travel.mp4\")    # display video in console    "
   ]
  },
  {
   "cell_type": "code",
   "execution_count": 5,
   "metadata": {},
   "outputs": [
    {
     "data": {
      "text/html": [
       "<video src=\"spiral.mp4\" controls  >\n",
       "      Your browser does not support the <code>video</code> element.\n",
       "    </video>"
      ],
      "text/plain": [
       "<IPython.core.display.Video object>"
      ]
     },
     "execution_count": 5,
     "metadata": {},
     "output_type": "execute_result"
    }
   ],
   "source": [
    "#=============================\n",
    "# plot a parametric spiral\n",
    "#=============================\n",
    "\n",
    "%matplotlib inline\n",
    "import numpy as np\n",
    "from matplotlib import pyplot as plt\n",
    "from mpl_toolkits import mplot3d\n",
    "from matplotlib import animation\n",
    "from IPython.display import Video\n",
    "\n",
    "# initialize data\n",
    "x_data = [np.cos(0)]\n",
    "y_data = [np.sin(0)]\n",
    "z_data = [0]\n",
    "\n",
    "steps_t = 201         # number of time steps\n",
    "dt = 6*np.pi/steps_t  # length of time step\n",
    "\n",
    "# create a figure and grab figure object\n",
    "fig = plt.figure(figsize=[13,10])\n",
    "fig.suptitle(\"x = cos(t) \\n y = sin(t) \\n z=t\")\n",
    "\n",
    "# add 3d subplot in fig with 1 row 1 col in position index 2\n",
    "ax = fig.add_subplot(1, 1, 1, projection='3d')\n",
    "ax.set_xlim(-1, 1)\n",
    "ax.set_ylim(-1, 1)\n",
    "ax.set_zlim(0, 6*np.pi)\n",
    "ax.set_xlabel(\"x\", fontsize=18)\n",
    "ax.set_ylabel(\"y\", fontsize=18)\n",
    "ax.set_zlabel(\"z\", fontsize=18)\n",
    "\n",
    "# grab line object by initializing a plot\n",
    "line, = ax.plot(x_data, y_data, z_data)\n",
    "\n",
    "# create text to display time, grab text object\n",
    "t_text = ax.text(0, 1, 22, \"time = \")\n",
    "\n",
    "\n",
    "# function should return plot objects that\n",
    "#   need to be updated at each time step\n",
    "def animate(n):\n",
    "    \n",
    "    x_data.append(np.cos(n*dt))\n",
    "    y_data.append(np.sin(n*dt))\n",
    "    z_data.append(n*dt)\n",
    "    \n",
    "    line.set_data_3d(x_data, y_data, z_data)\n",
    "    \n",
    "    t_text.set_text(\"t = {}\".format(n*dt))\n",
    "    \n",
    "    return line, t_text\n",
    "\n",
    "# create animation object by running the function 'animate'\n",
    "# updates fig with plot objects returned by 'animate' function\n",
    "# interval: delay between frames in ms\n",
    "# save_count: number of times animate is called\n",
    "ani = animation.FuncAnimation(fig, animate, interval=50, save_count=steps_t)\n",
    "\n",
    "# supress static figure from being plotted\n",
    "plt.close()\n",
    "\n",
    "ani.save(\"spiral.mp4\") # save as mp4\n",
    "Video(\"spiral.mp4\")    # display video in console"
   ]
  }
 ],
 "metadata": {
  "kernelspec": {
   "display_name": "Python 3",
   "language": "python",
   "name": "python3"
  },
  "language_info": {
   "codemirror_mode": {
    "name": "ipython",
    "version": 3
   },
   "file_extension": ".py",
   "mimetype": "text/x-python",
   "name": "python",
   "nbconvert_exporter": "python",
   "pygments_lexer": "ipython3",
   "version": "3.7.4"
  }
 },
 "nbformat": 4,
 "nbformat_minor": 2
}
